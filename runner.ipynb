{
 "cells": [
  {
   "cell_type": "code",
   "execution_count": 1,
   "metadata": {},
   "outputs": [],
   "source": [
    "PPT_DATA = {\n",
    "    \"Male\": {\n",
    "        \"name\": \"Male\",\n",
    "    },\n",
    "    \"Female\": {\n",
    "        \"name\": \"Female\",    \n",
    "    },\n",
    "}"
   ]
  },
  {
   "cell_type": "code",
   "execution_count": 2,
   "metadata": {},
   "outputs": [],
   "source": [
    "import pandas as pd"
   ]
  },
  {
   "cell_type": "code",
   "execution_count": 3,
   "metadata": {},
   "outputs": [],
   "source": [
    "complete_data = pd.read_excel(\"processed_data.xlsx\")"
   ]
  },
  {
   "cell_type": "code",
   "execution_count": 4,
   "metadata": {},
   "outputs": [],
   "source": [
    "personal_data = pd.read_excel(\"personal_data.xlsx\")"
   ]
  },
  {
   "cell_type": "code",
   "execution_count": 5,
   "metadata": {},
   "outputs": [],
   "source": [
    "import sys\n",
    "sys.path.append(\"Classes\")\n",
    "import ppt_generator\n",
    "\n",
    "runner = ppt_generator.PowerPointGenerator(\n",
    "    data=complete_data, personal_data=personal_data\n",
    ")"
   ]
  },
  {
   "cell_type": "code",
   "execution_count": 6,
   "metadata": {},
   "outputs": [
    {
     "name": "stdout",
     "output_type": "stream",
     "text": [
      "PPT Generating for: Male\n",
      "{'name': 'Male'}\n",
      "Slide Name: Don Bradman\n",
      "Slide Name: Joe Root\n",
      "Slide Name: Sachin Tendulkar\n",
      "Slide Name: Jacques Kallis\n",
      "Slide Name: Kane Williamson\n",
      "Slide Name: Brian Lara\n",
      "Slide Name: Mushfiqur Rahim\n",
      "Slide Name: Kumar Sangakkara\n",
      "Slide Name: Inzamam-ul-Haq\n",
      "Slide Name: Paul Stirling\n",
      "\n",
      "\n",
      "\n",
      "PPT Generating for: Female\n",
      "{'name': 'Female'}\n",
      "Slide Name: Meg Lanning\n",
      "Slide Name: Charlotte Edwards\n"
     ]
    },
    {
     "name": "stderr",
     "output_type": "stream",
     "text": [
      "g:\\python\\PPT Automation\\Classes\\ppt_generator.py:299: UserWarning:\n",
      "\n",
      "Could not infer format, so each element will be parsed individually, falling back to `dateutil`. To ensure parsing is consistent and as-expected, please specify a format.\n",
      "\n"
     ]
    },
    {
     "name": "stdout",
     "output_type": "stream",
     "text": [
      "Slide Name: Mithali Raj\n"
     ]
    },
    {
     "name": "stderr",
     "output_type": "stream",
     "text": [
      "g:\\python\\PPT Automation\\Classes\\ppt_generator.py:299: UserWarning:\n",
      "\n",
      "Could not infer format, so each element will be parsed individually, falling back to `dateutil`. To ensure parsing is consistent and as-expected, please specify a format.\n",
      "\n"
     ]
    },
    {
     "name": "stdout",
     "output_type": "stream",
     "text": [
      "Slide Name: Laura Wolvaardt\n",
      "Slide Name: Suzie Bates\n",
      "Slide Name: Hayley Matthews\n",
      "Slide Name: Fargana Hoque\n"
     ]
    },
    {
     "name": "stderr",
     "output_type": "stream",
     "text": [
      "g:\\python\\PPT Automation\\Classes\\ppt_generator.py:299: UserWarning:\n",
      "\n",
      "Could not infer format, so each element will be parsed individually, falling back to `dateutil`. To ensure parsing is consistent and as-expected, please specify a format.\n",
      "\n"
     ]
    },
    {
     "name": "stdout",
     "output_type": "stream",
     "text": [
      "Slide Name: Chamari Athapaththu\n",
      "Slide Name: Javeria Khan\n",
      "Slide Name: Gaby Lewis\n",
      "\n",
      "\n",
      "\n"
     ]
    }
   ],
   "source": [
    "for key, item in PPT_DATA.items():\n",
    "    print(f\"PPT Generating for: {key}\")\n",
    "    print(item)\n",
    "\n",
    "    runner._handle_general_flow(\n",
    "        key=key,\n",
    "        name=item[\"name\"]\n",
    "    )\n",
    "    \n",
    "    print(\"\\n\\n\")\n"
   ]
  },
  {
   "cell_type": "code",
   "execution_count": null,
   "metadata": {},
   "outputs": [],
   "source": []
  }
 ],
 "metadata": {
  "kernelspec": {
   "display_name": "Python 3",
   "language": "python",
   "name": "python3"
  },
  "language_info": {
   "codemirror_mode": {
    "name": "ipython",
    "version": 3
   },
   "file_extension": ".py",
   "mimetype": "text/x-python",
   "name": "python",
   "nbconvert_exporter": "python",
   "pygments_lexer": "ipython3",
   "version": "3.11.11"
  }
 },
 "nbformat": 4,
 "nbformat_minor": 2
}
